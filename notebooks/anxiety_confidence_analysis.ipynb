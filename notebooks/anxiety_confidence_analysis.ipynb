{
 "cells": [
  {
   "cell_type": "markdown",
   "metadata": {},
   "source": [
    "# Anxiety/Confidence Analysis\n",
    "\n",
    "Steps:\n",
    "1. Using seed words for the anxiety class and confidence class, use word2vec to find the 1000 most \"anxious\" and 1000 most \"confident\" words\n",
    "2. For each class of documents (either topic, province, or topic/province), calculate the proportion of anxious words used in that class relative to the proportion of anxious words used in total\n",
    "3. cassssh"
   ]
  },
  {
   "cell_type": "code",
   "execution_count": 1,
   "metadata": {},
   "outputs": [
    {
     "name": "stderr",
     "output_type": "stream",
     "text": [
      "/Users/cameron/.local/share/virtualenvs/COVID-Child-Care-Twitter-OW82RhPk/lib/python3.7/site-packages/tqdm/std.py:697: FutureWarning: The Panel class is removed from pandas. Accessing it from the top-level namespace will also be removed in the next version\n",
      "  from pandas import Panel\n"
     ]
    },
    {
     "name": "stdout",
     "output_type": "stream",
     "text": [
      "402217\n"
     ]
    },
    {
     "data": {
      "text/html": [
       "<div>\n",
       "<style scoped>\n",
       "    .dataframe tbody tr th:only-of-type {\n",
       "        vertical-align: middle;\n",
       "    }\n",
       "\n",
       "    .dataframe tbody tr th {\n",
       "        vertical-align: top;\n",
       "    }\n",
       "\n",
       "    .dataframe thead th {\n",
       "        text-align: right;\n",
       "    }\n",
       "</style>\n",
       "<table border=\"1\" class=\"dataframe\">\n",
       "  <thead>\n",
       "    <tr style=\"text-align: right;\">\n",
       "      <th></th>\n",
       "      <th>created_at</th>\n",
       "      <th>screen_name</th>\n",
       "      <th>source</th>\n",
       "      <th>clean_text</th>\n",
       "      <th>original_text</th>\n",
       "      <th>is_retweet</th>\n",
       "      <th>favorite_count</th>\n",
       "      <th>retweet_count</th>\n",
       "      <th>city</th>\n",
       "      <th>province</th>\n",
       "      <th>longitude</th>\n",
       "      <th>latitude</th>\n",
       "      <th>cluster</th>\n",
       "      <th>cluster_name</th>\n",
       "    </tr>\n",
       "    <tr>\n",
       "      <th>id</th>\n",
       "      <th></th>\n",
       "      <th></th>\n",
       "      <th></th>\n",
       "      <th></th>\n",
       "      <th></th>\n",
       "      <th></th>\n",
       "      <th></th>\n",
       "      <th></th>\n",
       "      <th></th>\n",
       "      <th></th>\n",
       "      <th></th>\n",
       "      <th></th>\n",
       "      <th></th>\n",
       "      <th></th>\n",
       "    </tr>\n",
       "  </thead>\n",
       "  <tbody>\n",
       "    <tr>\n",
       "      <th>1228700383482126337</th>\n",
       "      <td>2020-02-15</td>\n",
       "      <td>Dale32497473</td>\n",
       "      <td>Twitter for Android</td>\n",
       "      <td>tyrant behaves people afraid drop kid school s...</td>\n",
       "      <td>Only a tyrant behaves this way. When people ar...</td>\n",
       "      <td>True</td>\n",
       "      <td>0</td>\n",
       "      <td>0</td>\n",
       "      <td>Quebec</td>\n",
       "      <td>Quebec</td>\n",
       "      <td>-71.21454</td>\n",
       "      <td>46.81228</td>\n",
       "      <td>7</td>\n",
       "      <td>Overflow</td>\n",
       "    </tr>\n",
       "    <tr>\n",
       "      <th>1228701333127036934</th>\n",
       "      <td>2020-02-15</td>\n",
       "      <td>DanWKearney</td>\n",
       "      <td>Twitter for iPhone</td>\n",
       "      <td>beachglassfan shawnwilson1975 bluejay19758259 ...</td>\n",
       "      <td>@BeachGlassFan @ShawnWilson1975 @BlueJay197582...</td>\n",
       "      <td>False</td>\n",
       "      <td>1</td>\n",
       "      <td>1</td>\n",
       "      <td>Halifax</td>\n",
       "      <td>Atlantic Province</td>\n",
       "      <td>-63.57239</td>\n",
       "      <td>44.64533</td>\n",
       "      <td>6</td>\n",
       "      <td>School Closures</td>\n",
       "    </tr>\n",
       "    <tr>\n",
       "      <th>1228703017807032321</th>\n",
       "      <td>2020-02-15</td>\n",
       "      <td>DanWKearney</td>\n",
       "      <td>Twitter for iPhone</td>\n",
       "      <td>shawnwilson1975 bluejay19758259 itsfortodat hr...</td>\n",
       "      <td>@ShawnWilson1975 @BlueJay19758259 @itsfortodat...</td>\n",
       "      <td>False</td>\n",
       "      <td>0</td>\n",
       "      <td>0</td>\n",
       "      <td>Halifax</td>\n",
       "      <td>Atlantic Province</td>\n",
       "      <td>-63.57239</td>\n",
       "      <td>44.64533</td>\n",
       "      <td>6</td>\n",
       "      <td>School Closures</td>\n",
       "    </tr>\n",
       "    <tr>\n",
       "      <th>1228710813596356608</th>\n",
       "      <td>2020-02-15</td>\n",
       "      <td>TwistedEgo2026</td>\n",
       "      <td>Twitter for iPhone</td>\n",
       "      <td>work hard give child best child worry die hand...</td>\n",
       "      <td>WP: I work hard to give my children the best I...</td>\n",
       "      <td>True</td>\n",
       "      <td>0</td>\n",
       "      <td>0</td>\n",
       "      <td>Windsor</td>\n",
       "      <td>Ontario</td>\n",
       "      <td>-83.01654</td>\n",
       "      <td>42.30008</td>\n",
       "      <td>3</td>\n",
       "      <td>Remote Work</td>\n",
       "    </tr>\n",
       "    <tr>\n",
       "      <th>1228713336788811776</th>\n",
       "      <td>2020-02-15</td>\n",
       "      <td>NorthShoreNews</td>\n",
       "      <td>dlvr.it</td>\n",
       "      <td>school district hope open childcare centre tea...</td>\n",
       "      <td>#WestVan school district hopes to open childca...</td>\n",
       "      <td>False</td>\n",
       "      <td>41</td>\n",
       "      <td>11</td>\n",
       "      <td>Vancouver</td>\n",
       "      <td>British Columbia</td>\n",
       "      <td>-123.11934</td>\n",
       "      <td>49.24966</td>\n",
       "      <td>2</td>\n",
       "      <td>Childcare</td>\n",
       "    </tr>\n",
       "  </tbody>\n",
       "</table>\n",
       "</div>"
      ],
      "text/plain": [
       "                    created_at     screen_name               source  \\\n",
       "id                                                                    \n",
       "1228700383482126337 2020-02-15    Dale32497473  Twitter for Android   \n",
       "1228701333127036934 2020-02-15     DanWKearney   Twitter for iPhone   \n",
       "1228703017807032321 2020-02-15     DanWKearney   Twitter for iPhone   \n",
       "1228710813596356608 2020-02-15  TwistedEgo2026   Twitter for iPhone   \n",
       "1228713336788811776 2020-02-15  NorthShoreNews              dlvr.it   \n",
       "\n",
       "                                                            clean_text  \\\n",
       "id                                                                       \n",
       "1228700383482126337  tyrant behaves people afraid drop kid school s...   \n",
       "1228701333127036934  beachglassfan shawnwilson1975 bluejay19758259 ...   \n",
       "1228703017807032321  shawnwilson1975 bluejay19758259 itsfortodat hr...   \n",
       "1228710813596356608  work hard give child best child worry die hand...   \n",
       "1228713336788811776  school district hope open childcare centre tea...   \n",
       "\n",
       "                                                         original_text  \\\n",
       "id                                                                       \n",
       "1228700383482126337  Only a tyrant behaves this way. When people ar...   \n",
       "1228701333127036934  @BeachGlassFan @ShawnWilson1975 @BlueJay197582...   \n",
       "1228703017807032321  @ShawnWilson1975 @BlueJay19758259 @itsfortodat...   \n",
       "1228710813596356608  WP: I work hard to give my children the best I...   \n",
       "1228713336788811776  #WestVan school district hopes to open childca...   \n",
       "\n",
       "                     is_retweet  favorite_count  retweet_count       city  \\\n",
       "id                                                                          \n",
       "1228700383482126337        True               0              0     Quebec   \n",
       "1228701333127036934       False               1              1    Halifax   \n",
       "1228703017807032321       False               0              0    Halifax   \n",
       "1228710813596356608        True               0              0    Windsor   \n",
       "1228713336788811776       False              41             11  Vancouver   \n",
       "\n",
       "                              province  longitude  latitude  cluster  \\\n",
       "id                                                                     \n",
       "1228700383482126337             Quebec  -71.21454  46.81228        7   \n",
       "1228701333127036934  Atlantic Province  -63.57239  44.64533        6   \n",
       "1228703017807032321  Atlantic Province  -63.57239  44.64533        6   \n",
       "1228710813596356608            Ontario  -83.01654  42.30008        3   \n",
       "1228713336788811776   British Columbia -123.11934  49.24966        2   \n",
       "\n",
       "                        cluster_name  \n",
       "id                                    \n",
       "1228700383482126337         Overflow  \n",
       "1228701333127036934  School Closures  \n",
       "1228703017807032321  School Closures  \n",
       "1228710813596356608      Remote Work  \n",
       "1228713336788811776        Childcare  "
      ]
     },
     "execution_count": 1,
     "metadata": {},
     "output_type": "execute_result"
    }
   ],
   "source": [
    "from utils import DTYPE, PARSE_DATES, PROV_CONSOLIDATION, CONSOLIDATED_PROVINCES, CONVERTERS, ANCHOR_NAMES, PROVINCE_COLOR_MAP\n",
    "from tqdm.auto import tqdm\n",
    "import plotly.graph_objects as go\n",
    "import plotly.express as px\n",
    "import pandas as pd\n",
    "import numpy as np\n",
    "import glob\n",
    "tqdm.pandas()\n",
    "\n",
    "\n",
    "prov_map = lambda x : x if x not in PROV_CONSOLIDATION else PROV_CONSOLIDATION[x]\n",
    "\n",
    "total_df = pd.read_csv(\"../data/processed_data/total_tweet_dataset.csv\",header=0,dtype=DTYPE,converters=CONVERTERS,parse_dates=PARSE_DATES)\n",
    "total_df = total_df.set_index(\"id\").sort_values(\"created_at\")[~total_df.index.duplicated()]\n",
    "\n",
    "total_df[\"created_at\"] = total_df[\"created_at\"].dt.to_period(\"D\").dt.to_timestamp('s')\n",
    "total_df[\"province\"] = total_df[\"province\"].apply(prov_map)\n",
    "total_df = total_df[total_df.clean_text.notnull()]\n",
    "total_df[\"province\"] = total_df[\"province\"].apply(prov_map)\n",
    "total_df = total_df[total_df[\"province\"].isin(CONSOLIDATED_PROVINCES)]\n",
    "print(len(total_df))"
   ]
  },
  {
   "cell_type": "markdown",
   "metadata": {},
   "source": [
    "## Bootstrapping\n",
    "\n",
    "start with seed words for the anxious and confident classes\n",
    "\n",
    "> We retain the 1,000 terms that are semantically closest, on average, to the anxiety seed words, and the 1,000 terms closest to the confidence seed words.\n",
    "\n",
    "use word2vec and cosine similarity to build a big vocab of anxious/confident words"
   ]
  },
  {
   "cell_type": "code",
   "execution_count": 88,
   "metadata": {},
   "outputs": [
    {
     "data": {
      "application/vnd.jupyter.widget-view+json": {
       "model_id": "dd120891f72546569f39a527c52d26c7",
       "version_major": 2,
       "version_minor": 0
      },
      "text/plain": [
       "HBox(children=(HTML(value=''), FloatProgress(value=0.0, max=400000.0), HTML(value='')))"
      ]
     },
     "metadata": {},
     "output_type": "display_data"
    },
    {
     "name": "stdout",
     "output_type": "stream",
     "text": [
      "\n"
     ]
    },
    {
     "data": {
      "application/vnd.jupyter.widget-view+json": {
       "model_id": "64c93a6a34d042c99ef0a269013797be",
       "version_major": 2,
       "version_minor": 0
      },
      "text/plain": [
       "HBox(children=(HTML(value=''), FloatProgress(value=0.0, max=400000.0), HTML(value='')))"
      ]
     },
     "metadata": {},
     "output_type": "display_data"
    },
    {
     "name": "stdout",
     "output_type": "stream",
     "text": [
      "\n"
     ]
    }
   ],
   "source": [
    "from gensim.models import KeyedVectors\n",
    "import gensim.downloader as api\n",
    "\n",
    "# # word_vectors = api.load(\"glove-wiki-gigaword-100\")\n",
    "# # word_vectors.save(\"../models/glove.kv\")\n",
    "# word_vectors = KeyedVectors.load(\"../models/glove.kv\", mmap='r')\n",
    "# anxious_seed = [\"risk\", \"threat\", \"concerned\", \"doubt\", \"worry\", \"fear\", \"danger\", \"tension\", \"stress\", \"anxious\", \"upset\", \"alarming\", \"worried\", \"hazard\", \"uncertain\", \"scare\", \"unknown\", \"alarm\", \"tense\", \"anxiety\", \"distress\", \"nervous\", \"risky\", \"troubled\", \"threatening\", \"panic\", \"fearful\", \"frighten\", \"unrest\", \"doubtful\"]\n",
    "# confident_seed = [\"ease\", \"protect\", \"sure\", \"security\", \"safety\", \"protection\", \"confidence\", \"safe\", \"trust\", \"hope\", \"guarantee\", \"assurance\", \"certainty\", \"secure\", \"confident\", \"known\", \"guaranteed\", \"reassure\", \"predictable\", \"quiet\", \"hopeful\", \"optimistic\", \"bold\", \"convinced\", \"optimism\", \"content\", \"reassurance\", \"calm\", \"faithful\", \"comfort\"]\n",
    "# def seed_similarity(word,seed):\n",
    "#     return np.array([word_vectors.similarity(word,seed_word) for seed_word in seed]).mean() \n",
    "# vocab = pd.DataFrame({\"word\":word_vectors.vocab.keys()})\n",
    "# vocab[\"anxious_similarity\"] = vocab[\"word\"].progress_apply(lambda x : seed_similarity(x,anxious_seed))\n",
    "# anxious_values = vocab.sort_values(\"anxious_similarity\",ascending=False).head(1000).to_csv(\"../data/external_datasets/anxious_words.csv\")\n",
    "# vocab[\"confident_similarity\"] = vocab[\"word\"].progress_apply(lambda x : seed_similarity(x,confident_seed))\n",
    "# confident_values = vocab.sort_values(\"confident_similarity\",ascending=False).head(1000).to_csv(\"../data/external_datasets/confident_words.csv\")\n"
   ]
  },
  {
   "cell_type": "code",
   "execution_count": 2,
   "metadata": {},
   "outputs": [],
   "source": [
    "from kaleido.scopes.plotly import PlotlyScope\n",
    "scope = PlotlyScope()\n",
    "vis_args = {\n",
    "    \"template\": \"simple_white\",\n",
    "    \"font\":{\"size\": 23},\n",
    "    \"width\": 1000\n",
    "}"
   ]
  },
  {
   "cell_type": "code",
   "execution_count": null,
   "metadata": {},
   "outputs": [],
   "source": []
  }
 ],
 "metadata": {
  "kernelspec": {
   "display_name": "Python 3",
   "language": "python",
   "name": "python3"
  },
  "language_info": {
   "codemirror_mode": {
    "name": "ipython",
    "version": 3
   },
   "file_extension": ".py",
   "mimetype": "text/x-python",
   "name": "python",
   "nbconvert_exporter": "python",
   "pygments_lexer": "ipython3",
   "version": "3.7.3"
  }
 },
 "nbformat": 4,
 "nbformat_minor": 4
}
