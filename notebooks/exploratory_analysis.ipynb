{
 "cells": [
  {
   "cell_type": "markdown",
   "metadata": {},
   "source": [
    "# Exploratory Analysis\n",
    "\n",
    "What are people talking about re: our data?"
   ]
  },
  {
   "cell_type": "code",
   "execution_count": 1,
   "metadata": {},
   "outputs": [
    {
     "name": "stderr",
     "output_type": "stream",
     "text": [
      "/Users/cameron/.local/share/virtualenvs/COVID-Child-Care-Twitter-vC7O4c45/lib/python3.7/site-packages/pandas/core/arrays/datetimes.py:1091: UserWarning: Converting to PeriodArray/Index representation will drop timezone information.\n",
      "  UserWarning,\n"
     ]
    },
    {
     "data": {
      "text/html": [
       "<div>\n",
       "<style scoped>\n",
       "    .dataframe tbody tr th:only-of-type {\n",
       "        vertical-align: middle;\n",
       "    }\n",
       "\n",
       "    .dataframe tbody tr th {\n",
       "        vertical-align: top;\n",
       "    }\n",
       "\n",
       "    .dataframe thead th {\n",
       "        text-align: right;\n",
       "    }\n",
       "</style>\n",
       "<table border=\"1\" class=\"dataframe\">\n",
       "  <thead>\n",
       "    <tr style=\"text-align: right;\">\n",
       "      <th></th>\n",
       "      <th>created_at</th>\n",
       "      <th>screen_name</th>\n",
       "      <th>source</th>\n",
       "      <th>clean_text</th>\n",
       "      <th>original_text</th>\n",
       "      <th>is_retweet</th>\n",
       "      <th>favorite_count</th>\n",
       "      <th>retweet_count</th>\n",
       "      <th>hashtags</th>\n",
       "      <th>urls</th>\n",
       "      <th>mentions</th>\n",
       "      <th>city</th>\n",
       "      <th>province</th>\n",
       "      <th>longitude</th>\n",
       "      <th>latitude</th>\n",
       "    </tr>\n",
       "    <tr>\n",
       "      <th>id</th>\n",
       "      <th></th>\n",
       "      <th></th>\n",
       "      <th></th>\n",
       "      <th></th>\n",
       "      <th></th>\n",
       "      <th></th>\n",
       "      <th></th>\n",
       "      <th></th>\n",
       "      <th></th>\n",
       "      <th></th>\n",
       "      <th></th>\n",
       "      <th></th>\n",
       "      <th></th>\n",
       "      <th></th>\n",
       "      <th></th>\n",
       "    </tr>\n",
       "  </thead>\n",
       "  <tbody>\n",
       "    <tr>\n",
       "      <th>1236442738612207620</th>\n",
       "      <td>2020-03-08</td>\n",
       "      <td>Oreobonix</td>\n",
       "      <td>Twitter for Android</td>\n",
       "      <td>['indian', 'friend', 'dinner', 'white', 'frien...</td>\n",
       "      <td>An Indian friend just had dinner w a white fri...</td>\n",
       "      <td>True</td>\n",
       "      <td>0</td>\n",
       "      <td>0</td>\n",
       "      <td>NaN</td>\n",
       "      <td>NaN</td>\n",
       "      <td>['sairasameerarao']</td>\n",
       "      <td>Mississauga</td>\n",
       "      <td>Ontario</td>\n",
       "      <td>-79.65830</td>\n",
       "      <td>43.57890</td>\n",
       "    </tr>\n",
       "    <tr>\n",
       "      <th>1236444031447597056</th>\n",
       "      <td>2020-03-08</td>\n",
       "      <td>QuiDocet_Discit</td>\n",
       "      <td>Twitter for Android</td>\n",
       "      <td>['indian', 'friend', 'dinner', 'white', 'frien...</td>\n",
       "      <td>An Indian friend just had dinner w a white fri...</td>\n",
       "      <td>True</td>\n",
       "      <td>0</td>\n",
       "      <td>0</td>\n",
       "      <td>NaN</td>\n",
       "      <td>NaN</td>\n",
       "      <td>['sairasameerarao']</td>\n",
       "      <td>Toronto</td>\n",
       "      <td>Ontario</td>\n",
       "      <td>-79.41630</td>\n",
       "      <td>43.70011</td>\n",
       "    </tr>\n",
       "    <tr>\n",
       "      <th>1236446314801446912</th>\n",
       "      <td>2020-03-08</td>\n",
       "      <td>Leliye__</td>\n",
       "      <td>Twitter for iPhone</td>\n",
       "      <td>['break', 'news', 'grove', 'unified', 'school'...</td>\n",
       "      <td>🚨BREAKING NEWS: Elk Grove Unified School Distr...</td>\n",
       "      <td>True</td>\n",
       "      <td>0</td>\n",
       "      <td>0</td>\n",
       "      <td>NaN</td>\n",
       "      <td>NaN</td>\n",
       "      <td>['MarleiMartinez']</td>\n",
       "      <td>NaN</td>\n",
       "      <td>NaN</td>\n",
       "      <td>NaN</td>\n",
       "      <td>NaN</td>\n",
       "    </tr>\n",
       "    <tr>\n",
       "      <th>1236447149661073408</th>\n",
       "      <td>2020-03-08</td>\n",
       "      <td>trinachp_19</td>\n",
       "      <td>Twitter for Android</td>\n",
       "      <td>['indian', 'friend', 'dinner', 'white', 'frien...</td>\n",
       "      <td>An Indian friend just had dinner w a white fri...</td>\n",
       "      <td>True</td>\n",
       "      <td>0</td>\n",
       "      <td>0</td>\n",
       "      <td>NaN</td>\n",
       "      <td>NaN</td>\n",
       "      <td>['sairasameerarao']</td>\n",
       "      <td>London</td>\n",
       "      <td>Ontario</td>\n",
       "      <td>-81.23304</td>\n",
       "      <td>42.98339</td>\n",
       "    </tr>\n",
       "    <tr>\n",
       "      <th>1236451877044322305</th>\n",
       "      <td>2020-03-08</td>\n",
       "      <td>JezkaSeesink</td>\n",
       "      <td>Twitter for Android</td>\n",
       "      <td>['indian', 'friend', 'dinner', 'white', 'frien...</td>\n",
       "      <td>An Indian friend just had dinner w a white fri...</td>\n",
       "      <td>True</td>\n",
       "      <td>0</td>\n",
       "      <td>0</td>\n",
       "      <td>NaN</td>\n",
       "      <td>NaN</td>\n",
       "      <td>['sairasameerarao']</td>\n",
       "      <td>NaN</td>\n",
       "      <td>NaN</td>\n",
       "      <td>-113.64258</td>\n",
       "      <td>60.10867</td>\n",
       "    </tr>\n",
       "  </tbody>\n",
       "</table>\n",
       "</div>"
      ],
      "text/plain": [
       "                    created_at      screen_name               source  \\\n",
       "id                                                                     \n",
       "1236442738612207620 2020-03-08        Oreobonix  Twitter for Android   \n",
       "1236444031447597056 2020-03-08  QuiDocet_Discit  Twitter for Android   \n",
       "1236446314801446912 2020-03-08         Leliye__   Twitter for iPhone   \n",
       "1236447149661073408 2020-03-08      trinachp_19  Twitter for Android   \n",
       "1236451877044322305 2020-03-08     JezkaSeesink  Twitter for Android   \n",
       "\n",
       "                                                            clean_text  \\\n",
       "id                                                                       \n",
       "1236442738612207620  ['indian', 'friend', 'dinner', 'white', 'frien...   \n",
       "1236444031447597056  ['indian', 'friend', 'dinner', 'white', 'frien...   \n",
       "1236446314801446912  ['break', 'news', 'grove', 'unified', 'school'...   \n",
       "1236447149661073408  ['indian', 'friend', 'dinner', 'white', 'frien...   \n",
       "1236451877044322305  ['indian', 'friend', 'dinner', 'white', 'frien...   \n",
       "\n",
       "                                                         original_text  \\\n",
       "id                                                                       \n",
       "1236442738612207620  An Indian friend just had dinner w a white fri...   \n",
       "1236444031447597056  An Indian friend just had dinner w a white fri...   \n",
       "1236446314801446912  🚨BREAKING NEWS: Elk Grove Unified School Distr...   \n",
       "1236447149661073408  An Indian friend just had dinner w a white fri...   \n",
       "1236451877044322305  An Indian friend just had dinner w a white fri...   \n",
       "\n",
       "                    is_retweet  favorite_count  retweet_count hashtags urls  \\\n",
       "id                                                                            \n",
       "1236442738612207620       True               0              0      NaN  NaN   \n",
       "1236444031447597056       True               0              0      NaN  NaN   \n",
       "1236446314801446912       True               0              0      NaN  NaN   \n",
       "1236447149661073408       True               0              0      NaN  NaN   \n",
       "1236451877044322305       True               0              0      NaN  NaN   \n",
       "\n",
       "                                mentions         city province  longitude  \\\n",
       "id                                                                          \n",
       "1236442738612207620  ['sairasameerarao']  Mississauga  Ontario  -79.65830   \n",
       "1236444031447597056  ['sairasameerarao']      Toronto  Ontario  -79.41630   \n",
       "1236446314801446912   ['MarleiMartinez']          NaN      NaN        NaN   \n",
       "1236447149661073408  ['sairasameerarao']       London  Ontario  -81.23304   \n",
       "1236451877044322305  ['sairasameerarao']          NaN      NaN -113.64258   \n",
       "\n",
       "                     latitude  \n",
       "id                             \n",
       "1236442738612207620  43.57890  \n",
       "1236444031447597056  43.70011  \n",
       "1236446314801446912       NaN  \n",
       "1236447149661073408  42.98339  \n",
       "1236451877044322305  60.10867  "
      ]
     },
     "execution_count": 1,
     "metadata": {},
     "output_type": "execute_result"
    }
   ],
   "source": [
    "import pandas as pd\n",
    "from utils import DTYPE, PARSE_DATES, PROVINCES\n",
    "import glob\n",
    "\n",
    "data_paths = glob.glob(\"../data/processed_data/*.csv\")\n",
    "frames = [pd.read_csv(f,header=0,dtype=DTYPE,parse_dates=PARSE_DATES) for f in data_paths]\n",
    "\n",
    "total_df = pd.concat(frames, axis=0, ignore_index=True).set_index(\"id\").sort_values(\"created_at\")\n",
    "total_df[\"created_at\"] = total_df[\"created_at\"].dt.to_period(\"D\").dt.to_timestamp('s')\n",
    "total_df.head()"
   ]
  },
  {
   "cell_type": "code",
   "execution_count": 10,
   "metadata": {},
   "outputs": [
    {
     "data": {
      "application/vnd.plotly.v1+json": {
       "config": {
        "plotlyServerURL": "https://plot.ly"
       },
       "data": [
        {
         "hovertemplate": "Province=Alberta<br>Date=%{x}<br># Tweets=%{y}<extra></extra>",
         "legendgroup": "Alberta",
         "line": {
          "color": "#1F77B4",
          "dash": "solid",
          "shape": "spline"
         },
         "mode": "lines",
         "name": "Alberta",
         "orientation": "v",
         "showlegend": true,
         "type": "scatter",
         "x": [
          "2020-03-08T00:00:00",
          "2020-03-20T00:00:00",
          "2020-04-08T00:00:00",
          "2020-04-20T00:00:00",
          "2020-05-08T00:00:00",
          "2020-05-20T00:00:00",
          "2020-06-08T00:00:00",
          "2020-06-20T00:00:00",
          "2020-07-08T00:00:00",
          "2020-07-20T00:00:00",
          "2020-08-08T00:00:00",
          "2020-08-17T00:00:00"
         ],
         "xaxis": "x",
         "y": [
          19,
          57,
          31,
          36,
          29,
          30,
          24,
          12,
          39,
          59,
          165,
          58
         ],
         "yaxis": "y"
        },
        {
         "hovertemplate": "Province=Total<br>Date=%{x}<br># Tweets=%{y}<extra></extra>",
         "legendgroup": "Total",
         "line": {
          "color": "#FF7F0E",
          "dash": "solid",
          "shape": "spline"
         },
         "mode": "lines",
         "name": "Total",
         "orientation": "v",
         "showlegend": true,
         "type": "scatter",
         "x": [
          "2020-03-08T00:00:00",
          "2020-03-20T00:00:00",
          "2020-04-08T00:00:00",
          "2020-04-20T00:00:00",
          "2020-05-08T00:00:00",
          "2020-05-20T00:00:00",
          "2020-06-08T00:00:00",
          "2020-06-20T00:00:00",
          "2020-07-08T00:00:00",
          "2020-07-20T00:00:00",
          "2020-08-08T00:00:00",
          "2020-08-17T00:00:00"
         ],
         "xaxis": "x",
         "y": [
          110,
          418,
          400,
          292,
          389,
          416,
          260,
          124,
          403,
          437,
          862,
          451
         ],
         "yaxis": "y"
        },
        {
         "hovertemplate": "Province=Yukon<br>Date=%{x}<br># Tweets=%{y}<extra></extra>",
         "legendgroup": "Yukon",
         "line": {
          "color": "#2CA02C",
          "dash": "solid",
          "shape": "spline"
         },
         "mode": "lines",
         "name": "Yukon",
         "orientation": "v",
         "showlegend": true,
         "type": "scatter",
         "x": [
          "2020-03-08T00:00:00",
          "2020-03-20T00:00:00",
          "2020-04-08T00:00:00",
          "2020-04-20T00:00:00",
          "2020-05-08T00:00:00",
          "2020-05-20T00:00:00",
          "2020-06-08T00:00:00",
          "2020-06-20T00:00:00",
          "2020-07-08T00:00:00",
          "2020-07-20T00:00:00",
          "2020-08-08T00:00:00",
          "2020-08-17T00:00:00"
         ],
         "xaxis": "x",
         "y": [
          1,
          1,
          1,
          1,
          1,
          1,
          1,
          1,
          1,
          1,
          1,
          1
         ],
         "yaxis": "y"
        },
        {
         "hovertemplate": "Province=Saskatchewan<br>Date=%{x}<br># Tweets=%{y}<extra></extra>",
         "legendgroup": "Saskatchewan",
         "line": {
          "color": "#D62728",
          "dash": "solid",
          "shape": "spline"
         },
         "mode": "lines",
         "name": "Saskatchewan",
         "orientation": "v",
         "showlegend": true,
         "type": "scatter",
         "x": [
          "2020-03-08T00:00:00",
          "2020-03-20T00:00:00",
          "2020-04-08T00:00:00",
          "2020-04-20T00:00:00",
          "2020-05-08T00:00:00",
          "2020-05-20T00:00:00",
          "2020-06-08T00:00:00",
          "2020-06-20T00:00:00",
          "2020-07-08T00:00:00",
          "2020-07-20T00:00:00",
          "2020-08-08T00:00:00",
          "2020-08-17T00:00:00"
         ],
         "xaxis": "x",
         "y": [
          1,
          19,
          10,
          3,
          11,
          4,
          7,
          1,
          11,
          6,
          39,
          18
         ],
         "yaxis": "y"
        },
        {
         "hovertemplate": "Province=Prince Edward Island<br>Date=%{x}<br># Tweets=%{y}<extra></extra>",
         "legendgroup": "Prince Edward Island",
         "line": {
          "color": "#9467BD",
          "dash": "solid",
          "shape": "spline"
         },
         "mode": "lines",
         "name": "Prince Edward Island",
         "orientation": "v",
         "showlegend": true,
         "type": "scatter",
         "x": [
          "2020-03-08T00:00:00",
          "2020-03-20T00:00:00",
          "2020-04-08T00:00:00",
          "2020-04-20T00:00:00",
          "2020-05-08T00:00:00",
          "2020-05-20T00:00:00",
          "2020-06-08T00:00:00",
          "2020-06-20T00:00:00",
          "2020-07-08T00:00:00",
          "2020-07-20T00:00:00",
          "2020-08-08T00:00:00",
          "2020-08-17T00:00:00"
         ],
         "xaxis": "x",
         "y": [
          1,
          1,
          1,
          1,
          1,
          5,
          1,
          1,
          3,
          3,
          1,
          1
         ],
         "yaxis": "y"
        },
        {
         "hovertemplate": "Province=Ontario<br>Date=%{x}<br># Tweets=%{y}<extra></extra>",
         "legendgroup": "Ontario",
         "line": {
          "color": "#8C564B",
          "dash": "solid",
          "shape": "spline"
         },
         "mode": "lines",
         "name": "Ontario",
         "orientation": "v",
         "showlegend": true,
         "type": "scatter",
         "x": [
          "2020-03-08T00:00:00",
          "2020-03-20T00:00:00",
          "2020-04-08T00:00:00",
          "2020-04-20T00:00:00",
          "2020-05-08T00:00:00",
          "2020-05-20T00:00:00",
          "2020-06-08T00:00:00",
          "2020-06-20T00:00:00",
          "2020-07-08T00:00:00",
          "2020-07-20T00:00:00",
          "2020-08-08T00:00:00",
          "2020-08-17T00:00:00"
         ],
         "xaxis": "x",
         "y": [
          29,
          198,
          189,
          151,
          201,
          234,
          127,
          68,
          231,
          258,
          487,
          306
         ],
         "yaxis": "y"
        },
        {
         "hovertemplate": "Province=Nunavut<br>Date=%{x}<br># Tweets=%{y}<extra></extra>",
         "legendgroup": "Nunavut",
         "line": {
          "color": "#E377C2",
          "dash": "solid",
          "shape": "spline"
         },
         "mode": "lines",
         "name": "Nunavut",
         "orientation": "v",
         "showlegend": true,
         "type": "scatter",
         "x": [
          "2020-03-08T00:00:00",
          "2020-03-20T00:00:00",
          "2020-04-08T00:00:00",
          "2020-04-20T00:00:00",
          "2020-05-08T00:00:00",
          "2020-05-20T00:00:00",
          "2020-06-08T00:00:00",
          "2020-06-20T00:00:00",
          "2020-07-08T00:00:00",
          "2020-07-20T00:00:00",
          "2020-08-08T00:00:00",
          "2020-08-17T00:00:00"
         ],
         "xaxis": "x",
         "y": [
          1,
          1,
          1,
          1,
          1,
          1,
          1,
          1,
          1,
          1,
          1,
          1
         ],
         "yaxis": "y"
        },
        {
         "hovertemplate": "Province=Quebec<br>Date=%{x}<br># Tweets=%{y}<extra></extra>",
         "legendgroup": "Quebec",
         "line": {
          "color": "#7F7F7F",
          "dash": "solid",
          "shape": "spline"
         },
         "mode": "lines",
         "name": "Quebec",
         "orientation": "v",
         "showlegend": true,
         "type": "scatter",
         "x": [
          "2020-03-08T00:00:00",
          "2020-03-20T00:00:00",
          "2020-04-08T00:00:00",
          "2020-04-20T00:00:00",
          "2020-05-08T00:00:00",
          "2020-05-20T00:00:00",
          "2020-06-08T00:00:00",
          "2020-06-20T00:00:00",
          "2020-07-08T00:00:00",
          "2020-07-20T00:00:00",
          "2020-08-08T00:00:00",
          "2020-08-17T00:00:00"
         ],
         "xaxis": "x",
         "y": [
          8,
          22,
          18,
          23,
          25,
          16,
          8,
          5,
          11,
          17,
          15,
          8
         ],
         "yaxis": "y"
        },
        {
         "hovertemplate": "Province=Northwest Territories<br>Date=%{x}<br># Tweets=%{y}<extra></extra>",
         "legendgroup": "Northwest Territories",
         "line": {
          "color": "#BCBD22",
          "dash": "solid",
          "shape": "spline"
         },
         "mode": "lines",
         "name": "Northwest Territories",
         "orientation": "v",
         "showlegend": true,
         "type": "scatter",
         "x": [
          "2020-03-08T00:00:00",
          "2020-03-20T00:00:00",
          "2020-04-08T00:00:00",
          "2020-04-20T00:00:00",
          "2020-05-08T00:00:00",
          "2020-05-20T00:00:00",
          "2020-06-08T00:00:00",
          "2020-06-20T00:00:00",
          "2020-07-08T00:00:00",
          "2020-07-20T00:00:00",
          "2020-08-08T00:00:00",
          "2020-08-17T00:00:00"
         ],
         "xaxis": "x",
         "y": [
          1,
          1,
          1,
          1,
          1,
          1,
          1,
          1,
          1,
          1,
          1,
          1
         ],
         "yaxis": "y"
        },
        {
         "hovertemplate": "Province=Newfoundland and Labrador<br>Date=%{x}<br># Tweets=%{y}<extra></extra>",
         "legendgroup": "Newfoundland and Labrador",
         "line": {
          "color": "#17BECF",
          "dash": "solid",
          "shape": "spline"
         },
         "mode": "lines",
         "name": "Newfoundland and Labrador",
         "orientation": "v",
         "showlegend": true,
         "type": "scatter",
         "x": [
          "2020-03-08T00:00:00",
          "2020-03-20T00:00:00",
          "2020-04-08T00:00:00",
          "2020-04-20T00:00:00",
          "2020-05-08T00:00:00",
          "2020-05-20T00:00:00",
          "2020-06-08T00:00:00",
          "2020-06-20T00:00:00",
          "2020-07-08T00:00:00",
          "2020-07-20T00:00:00",
          "2020-08-08T00:00:00",
          "2020-08-17T00:00:00"
         ],
         "xaxis": "x",
         "y": [
          1,
          6,
          4,
          3,
          2,
          3,
          18,
          1,
          6,
          3,
          7,
          3
         ],
         "yaxis": "y"
        },
        {
         "hovertemplate": "Province=New Brunswick<br>Date=%{x}<br># Tweets=%{y}<extra></extra>",
         "legendgroup": "New Brunswick",
         "line": {
          "color": "#1F77B4",
          "dash": "solid",
          "shape": "spline"
         },
         "mode": "lines",
         "name": "New Brunswick",
         "orientation": "v",
         "showlegend": true,
         "type": "scatter",
         "x": [
          "2020-03-08T00:00:00",
          "2020-03-20T00:00:00",
          "2020-04-08T00:00:00",
          "2020-04-20T00:00:00",
          "2020-05-08T00:00:00",
          "2020-05-20T00:00:00",
          "2020-06-08T00:00:00",
          "2020-06-20T00:00:00",
          "2020-07-08T00:00:00",
          "2020-07-20T00:00:00",
          "2020-08-08T00:00:00",
          "2020-08-17T00:00:00"
         ],
         "xaxis": "x",
         "y": [
          1,
          5,
          1,
          3,
          1,
          3,
          1,
          1,
          10,
          3,
          2,
          2
         ],
         "yaxis": "y"
        },
        {
         "hovertemplate": "Province=Manitoba<br>Date=%{x}<br># Tweets=%{y}<extra></extra>",
         "legendgroup": "Manitoba",
         "line": {
          "color": "#FF7F0E",
          "dash": "solid",
          "shape": "spline"
         },
         "mode": "lines",
         "name": "Manitoba",
         "orientation": "v",
         "showlegend": true,
         "type": "scatter",
         "x": [
          "2020-03-08T00:00:00",
          "2020-03-20T00:00:00",
          "2020-04-08T00:00:00",
          "2020-04-20T00:00:00",
          "2020-05-08T00:00:00",
          "2020-05-20T00:00:00",
          "2020-06-08T00:00:00",
          "2020-06-20T00:00:00",
          "2020-07-08T00:00:00",
          "2020-07-20T00:00:00",
          "2020-08-08T00:00:00",
          "2020-08-17T00:00:00"
         ],
         "xaxis": "x",
         "y": [
          2,
          11,
          15,
          10,
          5,
          5,
          14,
          4,
          12,
          14,
          8,
          1
         ],
         "yaxis": "y"
        },
        {
         "hovertemplate": "Province=British Columbia<br>Date=%{x}<br># Tweets=%{y}<extra></extra>",
         "legendgroup": "British Columbia",
         "line": {
          "color": "#2CA02C",
          "dash": "solid",
          "shape": "spline"
         },
         "mode": "lines",
         "name": "British Columbia",
         "orientation": "v",
         "showlegend": true,
         "type": "scatter",
         "x": [
          "2020-03-08T00:00:00",
          "2020-03-20T00:00:00",
          "2020-04-08T00:00:00",
          "2020-04-20T00:00:00",
          "2020-05-08T00:00:00",
          "2020-05-20T00:00:00",
          "2020-06-08T00:00:00",
          "2020-06-20T00:00:00",
          "2020-07-08T00:00:00",
          "2020-07-20T00:00:00",
          "2020-08-08T00:00:00",
          "2020-08-17T00:00:00"
         ],
         "xaxis": "x",
         "y": [
          30,
          70,
          94,
          42,
          84,
          84,
          33,
          14,
          53,
          52,
          109,
          31
         ],
         "yaxis": "y"
        },
        {
         "hovertemplate": "Province=Nova Scotia<br>Date=%{x}<br># Tweets=%{y}<extra></extra>",
         "legendgroup": "Nova Scotia",
         "line": {
          "color": "#D62728",
          "dash": "solid",
          "shape": "spline"
         },
         "mode": "lines",
         "name": "Nova Scotia",
         "orientation": "v",
         "showlegend": true,
         "type": "scatter",
         "x": [
          "2020-03-08T00:00:00",
          "2020-03-20T00:00:00",
          "2020-04-08T00:00:00",
          "2020-04-20T00:00:00",
          "2020-05-08T00:00:00",
          "2020-05-20T00:00:00",
          "2020-06-08T00:00:00",
          "2020-06-20T00:00:00",
          "2020-07-08T00:00:00",
          "2020-07-20T00:00:00",
          "2020-08-08T00:00:00",
          "2020-08-17T00:00:00"
         ],
         "xaxis": "x",
         "y": [
          4,
          13,
          17,
          6,
          15,
          18,
          6,
          3,
          13,
          8,
          14,
          9
         ],
         "yaxis": "y"
        }
       ],
       "layout": {
        "legend": {
         "title": {
          "text": "Province"
         },
         "tracegroupgap": 0
        },
        "template": {
         "data": {
          "bar": [
           {
            "error_x": {
             "color": "rgb(36,36,36)"
            },
            "error_y": {
             "color": "rgb(36,36,36)"
            },
            "marker": {
             "line": {
              "color": "white",
              "width": 0.5
             }
            },
            "type": "bar"
           }
          ],
          "barpolar": [
           {
            "marker": {
             "line": {
              "color": "white",
              "width": 0.5
             }
            },
            "type": "barpolar"
           }
          ],
          "carpet": [
           {
            "aaxis": {
             "endlinecolor": "rgb(36,36,36)",
             "gridcolor": "white",
             "linecolor": "white",
             "minorgridcolor": "white",
             "startlinecolor": "rgb(36,36,36)"
            },
            "baxis": {
             "endlinecolor": "rgb(36,36,36)",
             "gridcolor": "white",
             "linecolor": "white",
             "minorgridcolor": "white",
             "startlinecolor": "rgb(36,36,36)"
            },
            "type": "carpet"
           }
          ],
          "choropleth": [
           {
            "colorbar": {
             "outlinewidth": 1,
             "tickcolor": "rgb(36,36,36)",
             "ticks": "outside"
            },
            "type": "choropleth"
           }
          ],
          "contour": [
           {
            "colorbar": {
             "outlinewidth": 1,
             "tickcolor": "rgb(36,36,36)",
             "ticks": "outside"
            },
            "colorscale": [
             [
              0,
              "#440154"
             ],
             [
              0.1111111111111111,
              "#482878"
             ],
             [
              0.2222222222222222,
              "#3e4989"
             ],
             [
              0.3333333333333333,
              "#31688e"
             ],
             [
              0.4444444444444444,
              "#26828e"
             ],
             [
              0.5555555555555556,
              "#1f9e89"
             ],
             [
              0.6666666666666666,
              "#35b779"
             ],
             [
              0.7777777777777778,
              "#6ece58"
             ],
             [
              0.8888888888888888,
              "#b5de2b"
             ],
             [
              1,
              "#fde725"
             ]
            ],
            "type": "contour"
           }
          ],
          "contourcarpet": [
           {
            "colorbar": {
             "outlinewidth": 1,
             "tickcolor": "rgb(36,36,36)",
             "ticks": "outside"
            },
            "type": "contourcarpet"
           }
          ],
          "heatmap": [
           {
            "colorbar": {
             "outlinewidth": 1,
             "tickcolor": "rgb(36,36,36)",
             "ticks": "outside"
            },
            "colorscale": [
             [
              0,
              "#440154"
             ],
             [
              0.1111111111111111,
              "#482878"
             ],
             [
              0.2222222222222222,
              "#3e4989"
             ],
             [
              0.3333333333333333,
              "#31688e"
             ],
             [
              0.4444444444444444,
              "#26828e"
             ],
             [
              0.5555555555555556,
              "#1f9e89"
             ],
             [
              0.6666666666666666,
              "#35b779"
             ],
             [
              0.7777777777777778,
              "#6ece58"
             ],
             [
              0.8888888888888888,
              "#b5de2b"
             ],
             [
              1,
              "#fde725"
             ]
            ],
            "type": "heatmap"
           }
          ],
          "heatmapgl": [
           {
            "colorbar": {
             "outlinewidth": 1,
             "tickcolor": "rgb(36,36,36)",
             "ticks": "outside"
            },
            "colorscale": [
             [
              0,
              "#440154"
             ],
             [
              0.1111111111111111,
              "#482878"
             ],
             [
              0.2222222222222222,
              "#3e4989"
             ],
             [
              0.3333333333333333,
              "#31688e"
             ],
             [
              0.4444444444444444,
              "#26828e"
             ],
             [
              0.5555555555555556,
              "#1f9e89"
             ],
             [
              0.6666666666666666,
              "#35b779"
             ],
             [
              0.7777777777777778,
              "#6ece58"
             ],
             [
              0.8888888888888888,
              "#b5de2b"
             ],
             [
              1,
              "#fde725"
             ]
            ],
            "type": "heatmapgl"
           }
          ],
          "histogram": [
           {
            "marker": {
             "line": {
              "color": "white",
              "width": 0.6
             }
            },
            "type": "histogram"
           }
          ],
          "histogram2d": [
           {
            "colorbar": {
             "outlinewidth": 1,
             "tickcolor": "rgb(36,36,36)",
             "ticks": "outside"
            },
            "colorscale": [
             [
              0,
              "#440154"
             ],
             [
              0.1111111111111111,
              "#482878"
             ],
             [
              0.2222222222222222,
              "#3e4989"
             ],
             [
              0.3333333333333333,
              "#31688e"
             ],
             [
              0.4444444444444444,
              "#26828e"
             ],
             [
              0.5555555555555556,
              "#1f9e89"
             ],
             [
              0.6666666666666666,
              "#35b779"
             ],
             [
              0.7777777777777778,
              "#6ece58"
             ],
             [
              0.8888888888888888,
              "#b5de2b"
             ],
             [
              1,
              "#fde725"
             ]
            ],
            "type": "histogram2d"
           }
          ],
          "histogram2dcontour": [
           {
            "colorbar": {
             "outlinewidth": 1,
             "tickcolor": "rgb(36,36,36)",
             "ticks": "outside"
            },
            "colorscale": [
             [
              0,
              "#440154"
             ],
             [
              0.1111111111111111,
              "#482878"
             ],
             [
              0.2222222222222222,
              "#3e4989"
             ],
             [
              0.3333333333333333,
              "#31688e"
             ],
             [
              0.4444444444444444,
              "#26828e"
             ],
             [
              0.5555555555555556,
              "#1f9e89"
             ],
             [
              0.6666666666666666,
              "#35b779"
             ],
             [
              0.7777777777777778,
              "#6ece58"
             ],
             [
              0.8888888888888888,
              "#b5de2b"
             ],
             [
              1,
              "#fde725"
             ]
            ],
            "type": "histogram2dcontour"
           }
          ],
          "mesh3d": [
           {
            "colorbar": {
             "outlinewidth": 1,
             "tickcolor": "rgb(36,36,36)",
             "ticks": "outside"
            },
            "type": "mesh3d"
           }
          ],
          "parcoords": [
           {
            "line": {
             "colorbar": {
              "outlinewidth": 1,
              "tickcolor": "rgb(36,36,36)",
              "ticks": "outside"
             }
            },
            "type": "parcoords"
           }
          ],
          "pie": [
           {
            "automargin": true,
            "type": "pie"
           }
          ],
          "scatter": [
           {
            "marker": {
             "colorbar": {
              "outlinewidth": 1,
              "tickcolor": "rgb(36,36,36)",
              "ticks": "outside"
             }
            },
            "type": "scatter"
           }
          ],
          "scatter3d": [
           {
            "line": {
             "colorbar": {
              "outlinewidth": 1,
              "tickcolor": "rgb(36,36,36)",
              "ticks": "outside"
             }
            },
            "marker": {
             "colorbar": {
              "outlinewidth": 1,
              "tickcolor": "rgb(36,36,36)",
              "ticks": "outside"
             }
            },
            "type": "scatter3d"
           }
          ],
          "scattercarpet": [
           {
            "marker": {
             "colorbar": {
              "outlinewidth": 1,
              "tickcolor": "rgb(36,36,36)",
              "ticks": "outside"
             }
            },
            "type": "scattercarpet"
           }
          ],
          "scattergeo": [
           {
            "marker": {
             "colorbar": {
              "outlinewidth": 1,
              "tickcolor": "rgb(36,36,36)",
              "ticks": "outside"
             }
            },
            "type": "scattergeo"
           }
          ],
          "scattergl": [
           {
            "marker": {
             "colorbar": {
              "outlinewidth": 1,
              "tickcolor": "rgb(36,36,36)",
              "ticks": "outside"
             }
            },
            "type": "scattergl"
           }
          ],
          "scattermapbox": [
           {
            "marker": {
             "colorbar": {
              "outlinewidth": 1,
              "tickcolor": "rgb(36,36,36)",
              "ticks": "outside"
             }
            },
            "type": "scattermapbox"
           }
          ],
          "scatterpolar": [
           {
            "marker": {
             "colorbar": {
              "outlinewidth": 1,
              "tickcolor": "rgb(36,36,36)",
              "ticks": "outside"
             }
            },
            "type": "scatterpolar"
           }
          ],
          "scatterpolargl": [
           {
            "marker": {
             "colorbar": {
              "outlinewidth": 1,
              "tickcolor": "rgb(36,36,36)",
              "ticks": "outside"
             }
            },
            "type": "scatterpolargl"
           }
          ],
          "scatterternary": [
           {
            "marker": {
             "colorbar": {
              "outlinewidth": 1,
              "tickcolor": "rgb(36,36,36)",
              "ticks": "outside"
             }
            },
            "type": "scatterternary"
           }
          ],
          "surface": [
           {
            "colorbar": {
             "outlinewidth": 1,
             "tickcolor": "rgb(36,36,36)",
             "ticks": "outside"
            },
            "colorscale": [
             [
              0,
              "#440154"
             ],
             [
              0.1111111111111111,
              "#482878"
             ],
             [
              0.2222222222222222,
              "#3e4989"
             ],
             [
              0.3333333333333333,
              "#31688e"
             ],
             [
              0.4444444444444444,
              "#26828e"
             ],
             [
              0.5555555555555556,
              "#1f9e89"
             ],
             [
              0.6666666666666666,
              "#35b779"
             ],
             [
              0.7777777777777778,
              "#6ece58"
             ],
             [
              0.8888888888888888,
              "#b5de2b"
             ],
             [
              1,
              "#fde725"
             ]
            ],
            "type": "surface"
           }
          ],
          "table": [
           {
            "cells": {
             "fill": {
              "color": "rgb(237,237,237)"
             },
             "line": {
              "color": "white"
             }
            },
            "header": {
             "fill": {
              "color": "rgb(217,217,217)"
             },
             "line": {
              "color": "white"
             }
            },
            "type": "table"
           }
          ]
         },
         "layout": {
          "annotationdefaults": {
           "arrowhead": 0,
           "arrowwidth": 1
          },
          "coloraxis": {
           "colorbar": {
            "outlinewidth": 1,
            "tickcolor": "rgb(36,36,36)",
            "ticks": "outside"
           }
          },
          "colorscale": {
           "diverging": [
            [
             0,
             "rgb(103,0,31)"
            ],
            [
             0.1,
             "rgb(178,24,43)"
            ],
            [
             0.2,
             "rgb(214,96,77)"
            ],
            [
             0.3,
             "rgb(244,165,130)"
            ],
            [
             0.4,
             "rgb(253,219,199)"
            ],
            [
             0.5,
             "rgb(247,247,247)"
            ],
            [
             0.6,
             "rgb(209,229,240)"
            ],
            [
             0.7,
             "rgb(146,197,222)"
            ],
            [
             0.8,
             "rgb(67,147,195)"
            ],
            [
             0.9,
             "rgb(33,102,172)"
            ],
            [
             1,
             "rgb(5,48,97)"
            ]
           ],
           "sequential": [
            [
             0,
             "#440154"
            ],
            [
             0.1111111111111111,
             "#482878"
            ],
            [
             0.2222222222222222,
             "#3e4989"
            ],
            [
             0.3333333333333333,
             "#31688e"
            ],
            [
             0.4444444444444444,
             "#26828e"
            ],
            [
             0.5555555555555556,
             "#1f9e89"
            ],
            [
             0.6666666666666666,
             "#35b779"
            ],
            [
             0.7777777777777778,
             "#6ece58"
            ],
            [
             0.8888888888888888,
             "#b5de2b"
            ],
            [
             1,
             "#fde725"
            ]
           ],
           "sequentialminus": [
            [
             0,
             "#440154"
            ],
            [
             0.1111111111111111,
             "#482878"
            ],
            [
             0.2222222222222222,
             "#3e4989"
            ],
            [
             0.3333333333333333,
             "#31688e"
            ],
            [
             0.4444444444444444,
             "#26828e"
            ],
            [
             0.5555555555555556,
             "#1f9e89"
            ],
            [
             0.6666666666666666,
             "#35b779"
            ],
            [
             0.7777777777777778,
             "#6ece58"
            ],
            [
             0.8888888888888888,
             "#b5de2b"
            ],
            [
             1,
             "#fde725"
            ]
           ]
          },
          "colorway": [
           "#1F77B4",
           "#FF7F0E",
           "#2CA02C",
           "#D62728",
           "#9467BD",
           "#8C564B",
           "#E377C2",
           "#7F7F7F",
           "#BCBD22",
           "#17BECF"
          ],
          "font": {
           "color": "rgb(36,36,36)"
          },
          "geo": {
           "bgcolor": "white",
           "lakecolor": "white",
           "landcolor": "white",
           "showlakes": true,
           "showland": true,
           "subunitcolor": "white"
          },
          "hoverlabel": {
           "align": "left"
          },
          "hovermode": "closest",
          "mapbox": {
           "style": "light"
          },
          "paper_bgcolor": "white",
          "plot_bgcolor": "white",
          "polar": {
           "angularaxis": {
            "gridcolor": "rgb(232,232,232)",
            "linecolor": "rgb(36,36,36)",
            "showgrid": false,
            "showline": true,
            "ticks": "outside"
           },
           "bgcolor": "white",
           "radialaxis": {
            "gridcolor": "rgb(232,232,232)",
            "linecolor": "rgb(36,36,36)",
            "showgrid": false,
            "showline": true,
            "ticks": "outside"
           }
          },
          "scene": {
           "xaxis": {
            "backgroundcolor": "white",
            "gridcolor": "rgb(232,232,232)",
            "gridwidth": 2,
            "linecolor": "rgb(36,36,36)",
            "showbackground": true,
            "showgrid": false,
            "showline": true,
            "ticks": "outside",
            "zeroline": false,
            "zerolinecolor": "rgb(36,36,36)"
           },
           "yaxis": {
            "backgroundcolor": "white",
            "gridcolor": "rgb(232,232,232)",
            "gridwidth": 2,
            "linecolor": "rgb(36,36,36)",
            "showbackground": true,
            "showgrid": false,
            "showline": true,
            "ticks": "outside",
            "zeroline": false,
            "zerolinecolor": "rgb(36,36,36)"
           },
           "zaxis": {
            "backgroundcolor": "white",
            "gridcolor": "rgb(232,232,232)",
            "gridwidth": 2,
            "linecolor": "rgb(36,36,36)",
            "showbackground": true,
            "showgrid": false,
            "showline": true,
            "ticks": "outside",
            "zeroline": false,
            "zerolinecolor": "rgb(36,36,36)"
           }
          },
          "shapedefaults": {
           "fillcolor": "black",
           "line": {
            "width": 0
           },
           "opacity": 0.3
          },
          "ternary": {
           "aaxis": {
            "gridcolor": "rgb(232,232,232)",
            "linecolor": "rgb(36,36,36)",
            "showgrid": false,
            "showline": true,
            "ticks": "outside"
           },
           "baxis": {
            "gridcolor": "rgb(232,232,232)",
            "linecolor": "rgb(36,36,36)",
            "showgrid": false,
            "showline": true,
            "ticks": "outside"
           },
           "bgcolor": "white",
           "caxis": {
            "gridcolor": "rgb(232,232,232)",
            "linecolor": "rgb(36,36,36)",
            "showgrid": false,
            "showline": true,
            "ticks": "outside"
           }
          },
          "title": {
           "x": 0.05
          },
          "xaxis": {
           "automargin": true,
           "gridcolor": "rgb(232,232,232)",
           "linecolor": "rgb(36,36,36)",
           "showgrid": false,
           "showline": true,
           "ticks": "outside",
           "title": {
            "standoff": 15
           },
           "zeroline": false,
           "zerolinecolor": "rgb(36,36,36)"
          },
          "yaxis": {
           "automargin": true,
           "gridcolor": "rgb(232,232,232)",
           "linecolor": "rgb(36,36,36)",
           "showgrid": false,
           "showline": true,
           "ticks": "outside",
           "title": {
            "standoff": 15
           },
           "zeroline": false,
           "zerolinecolor": "rgb(36,36,36)"
          }
         }
        },
        "title": {
         "text": "Tweets Over Time"
        },
        "xaxis": {
         "anchor": "y",
         "domain": [
          0,
          1
         ],
         "title": {
          "text": "Date"
         }
        },
        "yaxis": {
         "anchor": "x",
         "domain": [
          0,
          1
         ],
         "title": {
          "text": "# Tweets"
         }
        }
       }
      },
      "text/html": [
       "<div>\n",
       "        \n",
       "        \n",
       "            <div id=\"4c252a9d-a696-4b7a-ba7f-82d14bb9e650\" class=\"plotly-graph-div\" style=\"height:525px; width:100%;\"></div>\n",
       "            <script type=\"text/javascript\">\n",
       "                require([\"plotly\"], function(Plotly) {\n",
       "                    window.PLOTLYENV=window.PLOTLYENV || {};\n",
       "                    \n",
       "                if (document.getElementById(\"4c252a9d-a696-4b7a-ba7f-82d14bb9e650\")) {\n",
       "                    Plotly.newPlot(\n",
       "                        '4c252a9d-a696-4b7a-ba7f-82d14bb9e650',\n",
       "                        [{\"hovertemplate\": \"Province=Alberta<br>Date=%{x}<br># Tweets=%{y}<extra></extra>\", \"legendgroup\": \"Alberta\", \"line\": {\"color\": \"#1F77B4\", \"dash\": \"solid\", \"shape\": \"spline\"}, \"mode\": \"lines\", \"name\": \"Alberta\", \"orientation\": \"v\", \"showlegend\": true, \"type\": \"scatter\", \"x\": [\"2020-03-08T00:00:00\", \"2020-03-20T00:00:00\", \"2020-04-08T00:00:00\", \"2020-04-20T00:00:00\", \"2020-05-08T00:00:00\", \"2020-05-20T00:00:00\", \"2020-06-08T00:00:00\", \"2020-06-20T00:00:00\", \"2020-07-08T00:00:00\", \"2020-07-20T00:00:00\", \"2020-08-08T00:00:00\", \"2020-08-17T00:00:00\"], \"xaxis\": \"x\", \"y\": [19.0, 57.0, 31.0, 36.0, 29.0, 30.0, 24.0, 12.0, 39.0, 59.0, 165.0, 58.0], \"yaxis\": \"y\"}, {\"hovertemplate\": \"Province=Total<br>Date=%{x}<br># Tweets=%{y}<extra></extra>\", \"legendgroup\": \"Total\", \"line\": {\"color\": \"#FF7F0E\", \"dash\": \"solid\", \"shape\": \"spline\"}, \"mode\": \"lines\", \"name\": \"Total\", \"orientation\": \"v\", \"showlegend\": true, \"type\": \"scatter\", \"x\": [\"2020-03-08T00:00:00\", \"2020-03-20T00:00:00\", \"2020-04-08T00:00:00\", \"2020-04-20T00:00:00\", \"2020-05-08T00:00:00\", \"2020-05-20T00:00:00\", \"2020-06-08T00:00:00\", \"2020-06-20T00:00:00\", \"2020-07-08T00:00:00\", \"2020-07-20T00:00:00\", \"2020-08-08T00:00:00\", \"2020-08-17T00:00:00\"], \"xaxis\": \"x\", \"y\": [110.0, 418.0, 400.0, 292.0, 389.0, 416.0, 260.0, 124.0, 403.0, 437.0, 862.0, 451.0], \"yaxis\": \"y\"}, {\"hovertemplate\": \"Province=Yukon<br>Date=%{x}<br># Tweets=%{y}<extra></extra>\", \"legendgroup\": \"Yukon\", \"line\": {\"color\": \"#2CA02C\", \"dash\": \"solid\", \"shape\": \"spline\"}, \"mode\": \"lines\", \"name\": \"Yukon\", \"orientation\": \"v\", \"showlegend\": true, \"type\": \"scatter\", \"x\": [\"2020-03-08T00:00:00\", \"2020-03-20T00:00:00\", \"2020-04-08T00:00:00\", \"2020-04-20T00:00:00\", \"2020-05-08T00:00:00\", \"2020-05-20T00:00:00\", \"2020-06-08T00:00:00\", \"2020-06-20T00:00:00\", \"2020-07-08T00:00:00\", \"2020-07-20T00:00:00\", \"2020-08-08T00:00:00\", \"2020-08-17T00:00:00\"], \"xaxis\": \"x\", \"y\": [1.0, 1.0, 1.0, 1.0, 1.0, 1.0, 1.0, 1.0, 1.0, 1.0, 1.0, 1.0], \"yaxis\": \"y\"}, {\"hovertemplate\": \"Province=Saskatchewan<br>Date=%{x}<br># Tweets=%{y}<extra></extra>\", \"legendgroup\": \"Saskatchewan\", \"line\": {\"color\": \"#D62728\", \"dash\": \"solid\", \"shape\": \"spline\"}, \"mode\": \"lines\", \"name\": \"Saskatchewan\", \"orientation\": \"v\", \"showlegend\": true, \"type\": \"scatter\", \"x\": [\"2020-03-08T00:00:00\", \"2020-03-20T00:00:00\", \"2020-04-08T00:00:00\", \"2020-04-20T00:00:00\", \"2020-05-08T00:00:00\", \"2020-05-20T00:00:00\", \"2020-06-08T00:00:00\", \"2020-06-20T00:00:00\", \"2020-07-08T00:00:00\", \"2020-07-20T00:00:00\", \"2020-08-08T00:00:00\", \"2020-08-17T00:00:00\"], \"xaxis\": \"x\", \"y\": [1.0, 19.0, 10.0, 3.0, 11.0, 4.0, 7.0, 1.0, 11.0, 6.0, 39.0, 18.0], \"yaxis\": \"y\"}, {\"hovertemplate\": \"Province=Prince Edward Island<br>Date=%{x}<br># Tweets=%{y}<extra></extra>\", \"legendgroup\": \"Prince Edward Island\", \"line\": {\"color\": \"#9467BD\", \"dash\": \"solid\", \"shape\": \"spline\"}, \"mode\": \"lines\", \"name\": \"Prince Edward Island\", \"orientation\": \"v\", \"showlegend\": true, \"type\": \"scatter\", \"x\": [\"2020-03-08T00:00:00\", \"2020-03-20T00:00:00\", \"2020-04-08T00:00:00\", \"2020-04-20T00:00:00\", \"2020-05-08T00:00:00\", \"2020-05-20T00:00:00\", \"2020-06-08T00:00:00\", \"2020-06-20T00:00:00\", \"2020-07-08T00:00:00\", \"2020-07-20T00:00:00\", \"2020-08-08T00:00:00\", \"2020-08-17T00:00:00\"], \"xaxis\": \"x\", \"y\": [1.0, 1.0, 1.0, 1.0, 1.0, 5.0, 1.0, 1.0, 3.0, 3.0, 1.0, 1.0], \"yaxis\": \"y\"}, {\"hovertemplate\": \"Province=Ontario<br>Date=%{x}<br># Tweets=%{y}<extra></extra>\", \"legendgroup\": \"Ontario\", \"line\": {\"color\": \"#8C564B\", \"dash\": \"solid\", \"shape\": \"spline\"}, \"mode\": \"lines\", \"name\": \"Ontario\", \"orientation\": \"v\", \"showlegend\": true, \"type\": \"scatter\", \"x\": [\"2020-03-08T00:00:00\", \"2020-03-20T00:00:00\", \"2020-04-08T00:00:00\", \"2020-04-20T00:00:00\", \"2020-05-08T00:00:00\", \"2020-05-20T00:00:00\", \"2020-06-08T00:00:00\", \"2020-06-20T00:00:00\", \"2020-07-08T00:00:00\", \"2020-07-20T00:00:00\", \"2020-08-08T00:00:00\", \"2020-08-17T00:00:00\"], \"xaxis\": \"x\", \"y\": [29.0, 198.0, 189.0, 151.0, 201.0, 234.0, 127.0, 68.0, 231.0, 258.0, 487.0, 306.0], \"yaxis\": \"y\"}, {\"hovertemplate\": \"Province=Nunavut<br>Date=%{x}<br># Tweets=%{y}<extra></extra>\", \"legendgroup\": \"Nunavut\", \"line\": {\"color\": \"#E377C2\", \"dash\": \"solid\", \"shape\": \"spline\"}, \"mode\": \"lines\", \"name\": \"Nunavut\", \"orientation\": \"v\", \"showlegend\": true, \"type\": \"scatter\", \"x\": [\"2020-03-08T00:00:00\", \"2020-03-20T00:00:00\", \"2020-04-08T00:00:00\", \"2020-04-20T00:00:00\", \"2020-05-08T00:00:00\", \"2020-05-20T00:00:00\", \"2020-06-08T00:00:00\", \"2020-06-20T00:00:00\", \"2020-07-08T00:00:00\", \"2020-07-20T00:00:00\", \"2020-08-08T00:00:00\", \"2020-08-17T00:00:00\"], \"xaxis\": \"x\", \"y\": [1.0, 1.0, 1.0, 1.0, 1.0, 1.0, 1.0, 1.0, 1.0, 1.0, 1.0, 1.0], \"yaxis\": \"y\"}, {\"hovertemplate\": \"Province=Quebec<br>Date=%{x}<br># Tweets=%{y}<extra></extra>\", \"legendgroup\": \"Quebec\", \"line\": {\"color\": \"#7F7F7F\", \"dash\": \"solid\", \"shape\": \"spline\"}, \"mode\": \"lines\", \"name\": \"Quebec\", \"orientation\": \"v\", \"showlegend\": true, \"type\": \"scatter\", \"x\": [\"2020-03-08T00:00:00\", \"2020-03-20T00:00:00\", \"2020-04-08T00:00:00\", \"2020-04-20T00:00:00\", \"2020-05-08T00:00:00\", \"2020-05-20T00:00:00\", \"2020-06-08T00:00:00\", \"2020-06-20T00:00:00\", \"2020-07-08T00:00:00\", \"2020-07-20T00:00:00\", \"2020-08-08T00:00:00\", \"2020-08-17T00:00:00\"], \"xaxis\": \"x\", \"y\": [8.0, 22.0, 18.0, 23.0, 25.0, 16.0, 8.0, 5.0, 11.0, 17.0, 15.0, 8.0], \"yaxis\": \"y\"}, {\"hovertemplate\": \"Province=Northwest Territories<br>Date=%{x}<br># Tweets=%{y}<extra></extra>\", \"legendgroup\": \"Northwest Territories\", \"line\": {\"color\": \"#BCBD22\", \"dash\": \"solid\", \"shape\": \"spline\"}, \"mode\": \"lines\", \"name\": \"Northwest Territories\", \"orientation\": \"v\", \"showlegend\": true, \"type\": \"scatter\", \"x\": [\"2020-03-08T00:00:00\", \"2020-03-20T00:00:00\", \"2020-04-08T00:00:00\", \"2020-04-20T00:00:00\", \"2020-05-08T00:00:00\", \"2020-05-20T00:00:00\", \"2020-06-08T00:00:00\", \"2020-06-20T00:00:00\", \"2020-07-08T00:00:00\", \"2020-07-20T00:00:00\", \"2020-08-08T00:00:00\", \"2020-08-17T00:00:00\"], \"xaxis\": \"x\", \"y\": [1.0, 1.0, 1.0, 1.0, 1.0, 1.0, 1.0, 1.0, 1.0, 1.0, 1.0, 1.0], \"yaxis\": \"y\"}, {\"hovertemplate\": \"Province=Newfoundland and Labrador<br>Date=%{x}<br># Tweets=%{y}<extra></extra>\", \"legendgroup\": \"Newfoundland and Labrador\", \"line\": {\"color\": \"#17BECF\", \"dash\": \"solid\", \"shape\": \"spline\"}, \"mode\": \"lines\", \"name\": \"Newfoundland and Labrador\", \"orientation\": \"v\", \"showlegend\": true, \"type\": \"scatter\", \"x\": [\"2020-03-08T00:00:00\", \"2020-03-20T00:00:00\", \"2020-04-08T00:00:00\", \"2020-04-20T00:00:00\", \"2020-05-08T00:00:00\", \"2020-05-20T00:00:00\", \"2020-06-08T00:00:00\", \"2020-06-20T00:00:00\", \"2020-07-08T00:00:00\", \"2020-07-20T00:00:00\", \"2020-08-08T00:00:00\", \"2020-08-17T00:00:00\"], \"xaxis\": \"x\", \"y\": [1.0, 6.0, 4.0, 3.0, 2.0, 3.0, 18.0, 1.0, 6.0, 3.0, 7.0, 3.0], \"yaxis\": \"y\"}, {\"hovertemplate\": \"Province=New Brunswick<br>Date=%{x}<br># Tweets=%{y}<extra></extra>\", \"legendgroup\": \"New Brunswick\", \"line\": {\"color\": \"#1F77B4\", \"dash\": \"solid\", \"shape\": \"spline\"}, \"mode\": \"lines\", \"name\": \"New Brunswick\", \"orientation\": \"v\", \"showlegend\": true, \"type\": \"scatter\", \"x\": [\"2020-03-08T00:00:00\", \"2020-03-20T00:00:00\", \"2020-04-08T00:00:00\", \"2020-04-20T00:00:00\", \"2020-05-08T00:00:00\", \"2020-05-20T00:00:00\", \"2020-06-08T00:00:00\", \"2020-06-20T00:00:00\", \"2020-07-08T00:00:00\", \"2020-07-20T00:00:00\", \"2020-08-08T00:00:00\", \"2020-08-17T00:00:00\"], \"xaxis\": \"x\", \"y\": [1.0, 5.0, 1.0, 3.0, 1.0, 3.0, 1.0, 1.0, 10.0, 3.0, 2.0, 2.0], \"yaxis\": \"y\"}, {\"hovertemplate\": \"Province=Manitoba<br>Date=%{x}<br># Tweets=%{y}<extra></extra>\", \"legendgroup\": \"Manitoba\", \"line\": {\"color\": \"#FF7F0E\", \"dash\": \"solid\", \"shape\": \"spline\"}, \"mode\": \"lines\", \"name\": \"Manitoba\", \"orientation\": \"v\", \"showlegend\": true, \"type\": \"scatter\", \"x\": [\"2020-03-08T00:00:00\", \"2020-03-20T00:00:00\", \"2020-04-08T00:00:00\", \"2020-04-20T00:00:00\", \"2020-05-08T00:00:00\", \"2020-05-20T00:00:00\", \"2020-06-08T00:00:00\", \"2020-06-20T00:00:00\", \"2020-07-08T00:00:00\", \"2020-07-20T00:00:00\", \"2020-08-08T00:00:00\", \"2020-08-17T00:00:00\"], \"xaxis\": \"x\", \"y\": [2.0, 11.0, 15.0, 10.0, 5.0, 5.0, 14.0, 4.0, 12.0, 14.0, 8.0, 1.0], \"yaxis\": \"y\"}, {\"hovertemplate\": \"Province=British Columbia<br>Date=%{x}<br># Tweets=%{y}<extra></extra>\", \"legendgroup\": \"British Columbia\", \"line\": {\"color\": \"#2CA02C\", \"dash\": \"solid\", \"shape\": \"spline\"}, \"mode\": \"lines\", \"name\": \"British Columbia\", \"orientation\": \"v\", \"showlegend\": true, \"type\": \"scatter\", \"x\": [\"2020-03-08T00:00:00\", \"2020-03-20T00:00:00\", \"2020-04-08T00:00:00\", \"2020-04-20T00:00:00\", \"2020-05-08T00:00:00\", \"2020-05-20T00:00:00\", \"2020-06-08T00:00:00\", \"2020-06-20T00:00:00\", \"2020-07-08T00:00:00\", \"2020-07-20T00:00:00\", \"2020-08-08T00:00:00\", \"2020-08-17T00:00:00\"], \"xaxis\": \"x\", \"y\": [30.0, 70.0, 94.0, 42.0, 84.0, 84.0, 33.0, 14.0, 53.0, 52.0, 109.0, 31.0], \"yaxis\": \"y\"}, {\"hovertemplate\": \"Province=Nova Scotia<br>Date=%{x}<br># Tweets=%{y}<extra></extra>\", \"legendgroup\": \"Nova Scotia\", \"line\": {\"color\": \"#D62728\", \"dash\": \"solid\", \"shape\": \"spline\"}, \"mode\": \"lines\", \"name\": \"Nova Scotia\", \"orientation\": \"v\", \"showlegend\": true, \"type\": \"scatter\", \"x\": [\"2020-03-08T00:00:00\", \"2020-03-20T00:00:00\", \"2020-04-08T00:00:00\", \"2020-04-20T00:00:00\", \"2020-05-08T00:00:00\", \"2020-05-20T00:00:00\", \"2020-06-08T00:00:00\", \"2020-06-20T00:00:00\", \"2020-07-08T00:00:00\", \"2020-07-20T00:00:00\", \"2020-08-08T00:00:00\", \"2020-08-17T00:00:00\"], \"xaxis\": \"x\", \"y\": [4.0, 13.0, 17.0, 6.0, 15.0, 18.0, 6.0, 3.0, 13.0, 8.0, 14.0, 9.0], \"yaxis\": \"y\"}],\n",
       "                        {\"legend\": {\"title\": {\"text\": \"Province\"}, \"tracegroupgap\": 0}, \"template\": {\"data\": {\"bar\": [{\"error_x\": {\"color\": \"rgb(36,36,36)\"}, \"error_y\": {\"color\": \"rgb(36,36,36)\"}, \"marker\": {\"line\": {\"color\": \"white\", \"width\": 0.5}}, \"type\": \"bar\"}], \"barpolar\": [{\"marker\": {\"line\": {\"color\": \"white\", \"width\": 0.5}}, \"type\": \"barpolar\"}], \"carpet\": [{\"aaxis\": {\"endlinecolor\": \"rgb(36,36,36)\", \"gridcolor\": \"white\", \"linecolor\": \"white\", \"minorgridcolor\": \"white\", \"startlinecolor\": \"rgb(36,36,36)\"}, \"baxis\": {\"endlinecolor\": \"rgb(36,36,36)\", \"gridcolor\": \"white\", \"linecolor\": \"white\", \"minorgridcolor\": \"white\", \"startlinecolor\": \"rgb(36,36,36)\"}, \"type\": \"carpet\"}], \"choropleth\": [{\"colorbar\": {\"outlinewidth\": 1, \"tickcolor\": \"rgb(36,36,36)\", \"ticks\": \"outside\"}, \"type\": \"choropleth\"}], \"contour\": [{\"colorbar\": {\"outlinewidth\": 1, \"tickcolor\": \"rgb(36,36,36)\", \"ticks\": \"outside\"}, \"colorscale\": [[0.0, \"#440154\"], [0.1111111111111111, \"#482878\"], [0.2222222222222222, \"#3e4989\"], [0.3333333333333333, \"#31688e\"], [0.4444444444444444, \"#26828e\"], [0.5555555555555556, \"#1f9e89\"], [0.6666666666666666, \"#35b779\"], [0.7777777777777778, \"#6ece58\"], [0.8888888888888888, \"#b5de2b\"], [1.0, \"#fde725\"]], \"type\": \"contour\"}], \"contourcarpet\": [{\"colorbar\": {\"outlinewidth\": 1, \"tickcolor\": \"rgb(36,36,36)\", \"ticks\": \"outside\"}, \"type\": \"contourcarpet\"}], \"heatmap\": [{\"colorbar\": {\"outlinewidth\": 1, \"tickcolor\": \"rgb(36,36,36)\", \"ticks\": \"outside\"}, \"colorscale\": [[0.0, \"#440154\"], [0.1111111111111111, \"#482878\"], [0.2222222222222222, \"#3e4989\"], [0.3333333333333333, \"#31688e\"], [0.4444444444444444, \"#26828e\"], [0.5555555555555556, \"#1f9e89\"], [0.6666666666666666, \"#35b779\"], [0.7777777777777778, \"#6ece58\"], [0.8888888888888888, \"#b5de2b\"], [1.0, \"#fde725\"]], \"type\": \"heatmap\"}], \"heatmapgl\": [{\"colorbar\": {\"outlinewidth\": 1, \"tickcolor\": \"rgb(36,36,36)\", \"ticks\": \"outside\"}, \"colorscale\": [[0.0, \"#440154\"], [0.1111111111111111, \"#482878\"], [0.2222222222222222, \"#3e4989\"], [0.3333333333333333, \"#31688e\"], [0.4444444444444444, \"#26828e\"], [0.5555555555555556, \"#1f9e89\"], [0.6666666666666666, \"#35b779\"], [0.7777777777777778, \"#6ece58\"], [0.8888888888888888, \"#b5de2b\"], [1.0, \"#fde725\"]], \"type\": \"heatmapgl\"}], \"histogram\": [{\"marker\": {\"line\": {\"color\": \"white\", \"width\": 0.6}}, \"type\": \"histogram\"}], \"histogram2d\": [{\"colorbar\": {\"outlinewidth\": 1, \"tickcolor\": \"rgb(36,36,36)\", \"ticks\": \"outside\"}, \"colorscale\": [[0.0, \"#440154\"], [0.1111111111111111, \"#482878\"], [0.2222222222222222, \"#3e4989\"], [0.3333333333333333, \"#31688e\"], [0.4444444444444444, \"#26828e\"], [0.5555555555555556, \"#1f9e89\"], [0.6666666666666666, \"#35b779\"], [0.7777777777777778, \"#6ece58\"], [0.8888888888888888, \"#b5de2b\"], [1.0, \"#fde725\"]], \"type\": \"histogram2d\"}], \"histogram2dcontour\": [{\"colorbar\": {\"outlinewidth\": 1, \"tickcolor\": \"rgb(36,36,36)\", \"ticks\": \"outside\"}, \"colorscale\": [[0.0, \"#440154\"], [0.1111111111111111, \"#482878\"], [0.2222222222222222, \"#3e4989\"], [0.3333333333333333, \"#31688e\"], [0.4444444444444444, \"#26828e\"], [0.5555555555555556, \"#1f9e89\"], [0.6666666666666666, \"#35b779\"], [0.7777777777777778, \"#6ece58\"], [0.8888888888888888, \"#b5de2b\"], [1.0, \"#fde725\"]], \"type\": \"histogram2dcontour\"}], \"mesh3d\": [{\"colorbar\": {\"outlinewidth\": 1, \"tickcolor\": \"rgb(36,36,36)\", \"ticks\": \"outside\"}, \"type\": \"mesh3d\"}], \"parcoords\": [{\"line\": {\"colorbar\": {\"outlinewidth\": 1, \"tickcolor\": \"rgb(36,36,36)\", \"ticks\": \"outside\"}}, \"type\": \"parcoords\"}], \"pie\": [{\"automargin\": true, \"type\": \"pie\"}], \"scatter\": [{\"marker\": {\"colorbar\": {\"outlinewidth\": 1, \"tickcolor\": \"rgb(36,36,36)\", \"ticks\": \"outside\"}}, \"type\": \"scatter\"}], \"scatter3d\": [{\"line\": {\"colorbar\": {\"outlinewidth\": 1, \"tickcolor\": \"rgb(36,36,36)\", \"ticks\": \"outside\"}}, \"marker\": {\"colorbar\": {\"outlinewidth\": 1, \"tickcolor\": \"rgb(36,36,36)\", \"ticks\": \"outside\"}}, \"type\": \"scatter3d\"}], \"scattercarpet\": [{\"marker\": {\"colorbar\": {\"outlinewidth\": 1, \"tickcolor\": \"rgb(36,36,36)\", \"ticks\": \"outside\"}}, \"type\": \"scattercarpet\"}], \"scattergeo\": [{\"marker\": {\"colorbar\": {\"outlinewidth\": 1, \"tickcolor\": \"rgb(36,36,36)\", \"ticks\": \"outside\"}}, \"type\": \"scattergeo\"}], \"scattergl\": [{\"marker\": {\"colorbar\": {\"outlinewidth\": 1, \"tickcolor\": \"rgb(36,36,36)\", \"ticks\": \"outside\"}}, \"type\": \"scattergl\"}], \"scattermapbox\": [{\"marker\": {\"colorbar\": {\"outlinewidth\": 1, \"tickcolor\": \"rgb(36,36,36)\", \"ticks\": \"outside\"}}, \"type\": \"scattermapbox\"}], \"scatterpolar\": [{\"marker\": {\"colorbar\": {\"outlinewidth\": 1, \"tickcolor\": \"rgb(36,36,36)\", \"ticks\": \"outside\"}}, \"type\": \"scatterpolar\"}], \"scatterpolargl\": [{\"marker\": {\"colorbar\": {\"outlinewidth\": 1, \"tickcolor\": \"rgb(36,36,36)\", \"ticks\": \"outside\"}}, \"type\": \"scatterpolargl\"}], \"scatterternary\": [{\"marker\": {\"colorbar\": {\"outlinewidth\": 1, \"tickcolor\": \"rgb(36,36,36)\", \"ticks\": \"outside\"}}, \"type\": \"scatterternary\"}], \"surface\": [{\"colorbar\": {\"outlinewidth\": 1, \"tickcolor\": \"rgb(36,36,36)\", \"ticks\": \"outside\"}, \"colorscale\": [[0.0, \"#440154\"], [0.1111111111111111, \"#482878\"], [0.2222222222222222, \"#3e4989\"], [0.3333333333333333, \"#31688e\"], [0.4444444444444444, \"#26828e\"], [0.5555555555555556, \"#1f9e89\"], [0.6666666666666666, \"#35b779\"], [0.7777777777777778, \"#6ece58\"], [0.8888888888888888, \"#b5de2b\"], [1.0, \"#fde725\"]], \"type\": \"surface\"}], \"table\": [{\"cells\": {\"fill\": {\"color\": \"rgb(237,237,237)\"}, \"line\": {\"color\": \"white\"}}, \"header\": {\"fill\": {\"color\": \"rgb(217,217,217)\"}, \"line\": {\"color\": \"white\"}}, \"type\": \"table\"}]}, \"layout\": {\"annotationdefaults\": {\"arrowhead\": 0, \"arrowwidth\": 1}, \"coloraxis\": {\"colorbar\": {\"outlinewidth\": 1, \"tickcolor\": \"rgb(36,36,36)\", \"ticks\": \"outside\"}}, \"colorscale\": {\"diverging\": [[0.0, \"rgb(103,0,31)\"], [0.1, \"rgb(178,24,43)\"], [0.2, \"rgb(214,96,77)\"], [0.3, \"rgb(244,165,130)\"], [0.4, \"rgb(253,219,199)\"], [0.5, \"rgb(247,247,247)\"], [0.6, \"rgb(209,229,240)\"], [0.7, \"rgb(146,197,222)\"], [0.8, \"rgb(67,147,195)\"], [0.9, \"rgb(33,102,172)\"], [1.0, \"rgb(5,48,97)\"]], \"sequential\": [[0.0, \"#440154\"], [0.1111111111111111, \"#482878\"], [0.2222222222222222, \"#3e4989\"], [0.3333333333333333, \"#31688e\"], [0.4444444444444444, \"#26828e\"], [0.5555555555555556, \"#1f9e89\"], [0.6666666666666666, \"#35b779\"], [0.7777777777777778, \"#6ece58\"], [0.8888888888888888, \"#b5de2b\"], [1.0, \"#fde725\"]], \"sequentialminus\": [[0.0, \"#440154\"], [0.1111111111111111, \"#482878\"], [0.2222222222222222, \"#3e4989\"], [0.3333333333333333, \"#31688e\"], [0.4444444444444444, \"#26828e\"], [0.5555555555555556, \"#1f9e89\"], [0.6666666666666666, \"#35b779\"], [0.7777777777777778, \"#6ece58\"], [0.8888888888888888, \"#b5de2b\"], [1.0, \"#fde725\"]]}, \"colorway\": [\"#1F77B4\", \"#FF7F0E\", \"#2CA02C\", \"#D62728\", \"#9467BD\", \"#8C564B\", \"#E377C2\", \"#7F7F7F\", \"#BCBD22\", \"#17BECF\"], \"font\": {\"color\": \"rgb(36,36,36)\"}, \"geo\": {\"bgcolor\": \"white\", \"lakecolor\": \"white\", \"landcolor\": \"white\", \"showlakes\": true, \"showland\": true, \"subunitcolor\": \"white\"}, \"hoverlabel\": {\"align\": \"left\"}, \"hovermode\": \"closest\", \"mapbox\": {\"style\": \"light\"}, \"paper_bgcolor\": \"white\", \"plot_bgcolor\": \"white\", \"polar\": {\"angularaxis\": {\"gridcolor\": \"rgb(232,232,232)\", \"linecolor\": \"rgb(36,36,36)\", \"showgrid\": false, \"showline\": true, \"ticks\": \"outside\"}, \"bgcolor\": \"white\", \"radialaxis\": {\"gridcolor\": \"rgb(232,232,232)\", \"linecolor\": \"rgb(36,36,36)\", \"showgrid\": false, \"showline\": true, \"ticks\": \"outside\"}}, \"scene\": {\"xaxis\": {\"backgroundcolor\": \"white\", \"gridcolor\": \"rgb(232,232,232)\", \"gridwidth\": 2, \"linecolor\": \"rgb(36,36,36)\", \"showbackground\": true, \"showgrid\": false, \"showline\": true, \"ticks\": \"outside\", \"zeroline\": false, \"zerolinecolor\": \"rgb(36,36,36)\"}, \"yaxis\": {\"backgroundcolor\": \"white\", \"gridcolor\": \"rgb(232,232,232)\", \"gridwidth\": 2, \"linecolor\": \"rgb(36,36,36)\", \"showbackground\": true, \"showgrid\": false, \"showline\": true, \"ticks\": \"outside\", \"zeroline\": false, \"zerolinecolor\": \"rgb(36,36,36)\"}, \"zaxis\": {\"backgroundcolor\": \"white\", \"gridcolor\": \"rgb(232,232,232)\", \"gridwidth\": 2, \"linecolor\": \"rgb(36,36,36)\", \"showbackground\": true, \"showgrid\": false, \"showline\": true, \"ticks\": \"outside\", \"zeroline\": false, \"zerolinecolor\": \"rgb(36,36,36)\"}}, \"shapedefaults\": {\"fillcolor\": \"black\", \"line\": {\"width\": 0}, \"opacity\": 0.3}, \"ternary\": {\"aaxis\": {\"gridcolor\": \"rgb(232,232,232)\", \"linecolor\": \"rgb(36,36,36)\", \"showgrid\": false, \"showline\": true, \"ticks\": \"outside\"}, \"baxis\": {\"gridcolor\": \"rgb(232,232,232)\", \"linecolor\": \"rgb(36,36,36)\", \"showgrid\": false, \"showline\": true, \"ticks\": \"outside\"}, \"bgcolor\": \"white\", \"caxis\": {\"gridcolor\": \"rgb(232,232,232)\", \"linecolor\": \"rgb(36,36,36)\", \"showgrid\": false, \"showline\": true, \"ticks\": \"outside\"}}, \"title\": {\"x\": 0.05}, \"xaxis\": {\"automargin\": true, \"gridcolor\": \"rgb(232,232,232)\", \"linecolor\": \"rgb(36,36,36)\", \"showgrid\": false, \"showline\": true, \"ticks\": \"outside\", \"title\": {\"standoff\": 15}, \"zeroline\": false, \"zerolinecolor\": \"rgb(36,36,36)\"}, \"yaxis\": {\"automargin\": true, \"gridcolor\": \"rgb(232,232,232)\", \"linecolor\": \"rgb(36,36,36)\", \"showgrid\": false, \"showline\": true, \"ticks\": \"outside\", \"title\": {\"standoff\": 15}, \"zeroline\": false, \"zerolinecolor\": \"rgb(36,36,36)\"}}}, \"title\": {\"text\": \"Tweets Over Time\"}, \"xaxis\": {\"anchor\": \"y\", \"domain\": [0.0, 1.0], \"title\": {\"text\": \"Date\"}}, \"yaxis\": {\"anchor\": \"x\", \"domain\": [0.0, 1.0], \"title\": {\"text\": \"# Tweets\"}}},\n",
       "                        {\"responsive\": true}\n",
       "                    ).then(function(){\n",
       "                            \n",
       "var gd = document.getElementById('4c252a9d-a696-4b7a-ba7f-82d14bb9e650');\n",
       "var x = new MutationObserver(function (mutations, observer) {{\n",
       "        var display = window.getComputedStyle(gd).display;\n",
       "        if (!display || display === 'none') {{\n",
       "            console.log([gd, 'removed!']);\n",
       "            Plotly.purge(gd);\n",
       "            observer.disconnect();\n",
       "        }}\n",
       "}});\n",
       "\n",
       "// Listen for the removal of the full notebook cells\n",
       "var notebookContainer = gd.closest('#notebook-container');\n",
       "if (notebookContainer) {{\n",
       "    x.observe(notebookContainer, {childList: true});\n",
       "}}\n",
       "\n",
       "// Listen for the clearing of the current output cell\n",
       "var outputEl = gd.closest('.output');\n",
       "if (outputEl) {{\n",
       "    x.observe(outputEl, {childList: true});\n",
       "}}\n",
       "\n",
       "                        })\n",
       "                };\n",
       "                });\n",
       "            </script>\n",
       "        </div>"
      ]
     },
     "metadata": {},
     "output_type": "display_data"
    }
   ],
   "source": [
    "import plotly.express as px\n",
    "counts = total_df.groupby([\"created_at\",\"province\"]).count()[\"screen_name\"].unstack().fillna(1)\n",
    "# Get grand total for each date\n",
    "counts = pd.DataFrame(counts.assign(Total=counts.sum(1)).stack()).reset_index().rename({0: \"count\"},axis=1)\n",
    "\n",
    "counts = counts[counts[\"province\"].isin(PROVINCES+[\"Total\"])]\n",
    "idx = pd.MultiIndex.from_product([counts['created_at'].unique(), counts['province'].unique()],names=['created_at', 'province'])\n",
    "counts = counts.set_index(['created_at', 'province']).reindex(idx).reset_index().sort_values('created_at').fillna(0)\n",
    "counts\n",
    "args = {\n",
    "    \"x\": \"created_at\",\n",
    "    \"y\": \"count\",\n",
    "    \"color\": \"province\",\n",
    "    \"line_shape\": \"spline\",\n",
    "    \"title\":  \"Tweets Over Time\",\n",
    "    \"template\": \"simple_white\",\n",
    "    \"labels\": {\"count\": \"# Tweets\", \"created_at\": \"Date\", \"province\": \"Province\"},\n",
    "}\n",
    "\n",
    "fig = px.line(counts,**args)\n",
    "# fig.write_html(\"../visualizations/exploratory_analysis/sample-tweets_over_time.html\")\n",
    "fig.show()"
   ]
  },
  {
   "cell_type": "code",
   "execution_count": null,
   "metadata": {},
   "outputs": [],
   "source": []
  }
 ],
 "metadata": {
  "kernelspec": {
   "display_name": "Python 3",
   "language": "python",
   "name": "python3"
  },
  "language_info": {
   "codemirror_mode": {
    "name": "ipython",
    "version": 3
   },
   "file_extension": ".py",
   "mimetype": "text/x-python",
   "name": "python",
   "nbconvert_exporter": "python",
   "pygments_lexer": "ipython3",
   "version": "3.7.7"
  }
 },
 "nbformat": 4,
 "nbformat_minor": 4
}
